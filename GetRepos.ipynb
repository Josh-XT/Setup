{
 "cells": [
  {
   "cell_type": "markdown",
   "metadata": {},
   "source": [
    "# Get Repositories\n",
    "\n",
    "This script will get all GitHub repositories that you own, collaborate on, or own the organization of. Just update your `gh_token` with your GitHub token and run the script. Make a token here: https://github.com/settings/tokens\n"
   ]
  },
  {
   "cell_type": "code",
   "execution_count": null,
   "metadata": {},
   "outputs": [],
   "source": [
    "import os\n",
    "import subprocess\n",
    "import requests\n",
    "\n",
    "# Your GitHub Personal Access Token\n",
    "gh_token = \"YOUR GITHUB TOKEN\"\n",
    "\n",
    "# Base URL for GitHub API\n",
    "api_url = \"https://api.github.com\"\n",
    "\n",
    "# Headers for GitHub API\n",
    "headers = {\n",
    "    \"Authorization\": f\"token {gh_token}\",\n",
    "    \"Accept\": \"application/vnd.github.v3+json\",\n",
    "}\n",
    "\n",
    "\n",
    "# Function to fetch repositories\n",
    "def fetch_repos(url):\n",
    "    response = requests.get(url, headers=headers)\n",
    "    return response.json()\n",
    "\n",
    "\n",
    "# Fetch personal and collaborated repositories\n",
    "user_repos = fetch_repos(f\"{api_url}/user/repos?type=owner\")\n",
    "collab_repos = fetch_repos(f\"{api_url}/user/repos?type=collaborator\")\n",
    "\n",
    "# Fetch organizations\n",
    "orgs = fetch_repos(f\"{api_url}/user/orgs\")\n",
    "\n",
    "# Fetch repositories from organizations\n",
    "org_repos = []\n",
    "for org in orgs:\n",
    "    org_name = org[\"login\"]\n",
    "    org_repos += fetch_repos(f\"{api_url}/orgs/{org_name}/repos\")\n",
    "\n",
    "# Combine all repositories, avoiding duplicates\n",
    "all_repos = []\n",
    "for repo in user_repos + collab_repos + org_repos:\n",
    "    if repo not in all_repos:\n",
    "        all_repos.append(repo)\n",
    "\n",
    "# Directory to clone repositories\n",
    "base_dir = \"C:/Repos/\"\n",
    "\n",
    "for repo in all_repos:\n",
    "    repo_name = repo[\"full_name\"]\n",
    "    clone_url = repo[\"clone_url\"]\n",
    "    print(f\"Cloning {repo_name}...\")\n",
    "    # Create directory path\n",
    "    dir_path = os.path.join(base_dir, repo_name)\n",
    "    os.makedirs(dir_path, exist_ok=True)\n",
    "\n",
    "    # Clone repo\n",
    "    subprocess.run([\"git\", \"clone\", clone_url, dir_path])\n",
    "\n",
    "print(\"Repositories cloned successfully.\")"
   ]
  }
 ],
 "metadata": {
  "kernelspec": {
   "display_name": "Python 3",
   "language": "python",
   "name": "python3"
  },
  "language_info": {
   "codemirror_mode": {
    "name": "ipython",
    "version": 3
   },
   "file_extension": ".py",
   "mimetype": "text/x-python",
   "name": "python",
   "nbconvert_exporter": "python",
   "pygments_lexer": "ipython3",
   "version": "3.10.11"
  }
 },
 "nbformat": 4,
 "nbformat_minor": 2
}
